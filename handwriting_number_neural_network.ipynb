{
 "cells": [
  {
   "cell_type": "markdown",
   "metadata": {},
   "source": [
    "### Importações "
   ]
  },
  {
   "cell_type": "code",
   "execution_count": 1,
   "metadata": {},
   "outputs": [],
   "source": [
    "import tensorflow as tf\n",
    "import matplotlib.pyplot as plt\n",
    "from tensorflow import keras\n",
    "from tensorflow.keras.metrics import Precision, Recall\n",
    "import numpy as np\n",
    "from scipy.ndimage import convolve\n",
    "import visualkeras\n",
    "import os\n",
    "import pathlib\n",
    "import gradio as gr"
   ]
  },
  {
   "cell_type": "markdown",
   "metadata": {},
   "source": [
    "### Data collection\n",
    "We are using the mnist dataset for handwriting digits"
   ]
  },
  {
   "cell_type": "code",
   "execution_count": 2,
   "metadata": {},
   "outputs": [],
   "source": [
    "mnist = tf.keras.datasets.mnist\n",
    "(x_train, y_train), (x_test, y_test) = mnist.load_data()"
   ]
  },
  {
   "cell_type": "markdown",
   "metadata": {},
   "source": [
    "### Convolution "
   ]
  },
  {
   "cell_type": "markdown",
   "metadata": {},
   "source": [
    "Uma convolução é um processo em que você realiza o produto entre duas funções, na programação podemos ver como sendo o produto entre dois arrays, ou matrizes, multi-dimensionais. Um exemplo de aplicação é a seguinte detecção de borda usando o \"prewitt operator\""
   ]
  },
  {
   "cell_type": "code",
   "execution_count": 3,
   "metadata": {},
   "outputs": [
    {
     "data": {
      "text/plain": [
       "<matplotlib.image.AxesImage at 0x23aff31fe50>"
      ]
     },
     "execution_count": 3,
     "metadata": {},
     "output_type": "execute_result"
    },
    {
     "data": {
      "image/png": "[encoded data removed]",
      "text/plain": [
       "<Figure size 640x480 with 1 Axes>"
      ]
     },
     "metadata": {},
     "output_type": "display_data"
    }
   ],
   "source": [
    "A = x_train[5]/255\n",
    "K = [[-1, -1, -1], [0, 0, 0], [1, 1, 1]]\n",
    "convolved = convolve(A, K).reshape(28, 28) \n",
    "plt.imshow(convolved, cmap=\"cool\")"
   ]
  },
  {
   "cell_type": "code",
   "execution_count": 4,
   "metadata": {},
   "outputs": [
    {
     "name": "stdout",
     "output_type": "stream",
     "text": [
      "2\n"
     ]
    },
    {
     "data": {
      "text/plain": [
       "<matplotlib.image.AxesImage at 0x23aff349e50>"
      ]
     },
     "execution_count": 4,
     "metadata": {},
     "output_type": "execute_result"
    },
    {
     "data": {
      "image/png": "[encoded data removed]",
      "text/plain": [
       "<Figure size 640x480 with 1 Axes>"
      ]
     },
     "metadata": {},
     "output_type": "display_data"
    }
   ],
   "source": [
    "\n",
    "print(mnist.load_data()[0][1][5])\n",
    "plt.imshow(mnist.load_data()[0][0][5])"
   ]
  },
  {
   "cell_type": "markdown",
   "metadata": {},
   "source": [
    "### Data preparation"
   ]
  },
  {
   "cell_type": "code",
   "execution_count": 5,
   "metadata": {},
   "outputs": [],
   "source": [
    "x_train = x_train / 255.0\n",
    "x_test = x_test / 255.0"
   ]
  },
  {
   "cell_type": "markdown",
   "metadata": {},
   "source": [
    "### Neural network"
   ]
  },
  {
   "cell_type": "markdown",
   "metadata": {},
   "source": [
    "A rede neural será composta pelas seguintes camadas:\n",
    "\n",
    "- Camada de convolução com 50 neurônios onde cada um é um filtro 9x9\n",
    "- Camada de MaxPooling para redução de dimensionalidade, com 50 neurônios\n",
    "- Camada de convolução com 50 neurônios onde cada um é um filtro 5x5\n",
    "- Camada de MaxPooling para redução de dimensionalidade, com 50 neurônios\n",
    "- Uma camada densa de 128 neurônios com ativação relu\n",
    "- Uma camada densa de 64 neurônios com ativação relu\n",
    "- Uma camada densa de 10 neurônios com ativação leaky_relu"
   ]
  },
  {
   "cell_type": "code",
   "execution_count": 6,
   "metadata": {},
   "outputs": [],
   "source": [
    "model = keras.Sequential([\n",
    "        keras.layers.Conv2D(50, (9, 9), activation='relu', input_shape=(28, 28, 1)),\n",
    "        keras.layers.MaxPooling2D((2, 2)),\n",
    "        keras.layers.Conv2D(50, (5, 5), activation='relu'),\n",
    "        keras.layers.MaxPooling2D((2, 2)),\n",
    "        keras.layers.Flatten(),\n",
    "        keras.layers.Dense(128, activation='relu'),\n",
    "        keras.layers.Dense(64, activation='relu'),\n",
    "        keras.layers.Dense(10, activation='leaky_relu'),\n",
    "        keras.layers.Dense(1),\n",
    "])"
   ]
  },
  {
   "cell_type": "code",
   "execution_count": 7,
   "metadata": {},
   "outputs": [],
   "source": [
    "model.compile(optimizer='adam', loss='mean_absolute_error', metrics=['mean_squared_error', 'mean_absolute_error', 'accuracy', Precision(name='precision'),\n",
    "               \tRecall(name='recall')])"
   ]
  },
  {
   "cell_type": "code",
   "execution_count": 8,
   "metadata": {},
   "outputs": [],
   "source": [
    "if(not os.path.exists(pathlib.PurePath('./model/nn_model'))):\n",
    "    model.fit(x_train, y_train, epochs=50, batch_size=256)\n",
    "    model.save(pathlib.PurePath('./model/nn_model'))\n",
    "else:\n",
    "    model.load_weights(pathlib.PurePath('./model/nn_model')) \n"
   ]
  },
  {
   "cell_type": "code",
   "execution_count": 9,
   "metadata": {},
   "outputs": [
    {
     "name": "stdout",
     "output_type": "stream",
     "text": [
      "313/313 [==============================] - 3s 7ms/step - loss: 0.0690 - mean_squared_error: 0.1333 - mean_absolute_error: 0.0690 - accuracy: 0.2106 - precision: 0.9994 - recall: 0.9991\n",
      "Test loss (mae): 0.13332195580005646\n",
      "Test mse: 0.06901330500841141\n"
     ]
    }
   ],
   "source": [
    "mse, mae, _, _, _, _ = model.evaluate(x_test, y_test)\n",
    "print('Test loss (mae):', mae)\n",
    "print('Test mse:', mse)"
   ]
  },
  {
   "cell_type": "code",
   "execution_count": 10,
   "metadata": {},
   "outputs": [
    {
     "data": {
      "image/png": "[encoded data removed]",
      "text/plain": [
       "<PIL.Image.Image image mode=RGBA size=322x107>"
      ]
     },
     "execution_count": 10,
     "metadata": {},
     "output_type": "execute_result"
    }
   ],
   "source": [
    "visualkeras.layered_view(model)"
   ]
  },
  {
   "cell_type": "code",
   "execution_count": 13,
   "metadata": {},
   "outputs": [],
   "source": [
    "# Define the Gradio interface\n",
    "def generate_binary_matrix(input_image):\n",
    "    try:\n",
    "\n",
    "        binary_matrix = input_image/255\n",
    "        result = np.ravel(model.predict(binary_matrix.reshape(1, 28, 28), verbose=False))[0].round().astype(int)\n",
    "        return str(result)\n",
    "    except:\n",
    "        return \"Draw a single digit.\""
   ]
  },
  {
   "cell_type": "code",
   "execution_count": 14,
   "metadata": {},
   "outputs": [
    {
     "name": "stdout",
     "output_type": "stream",
     "text": [
      "Running on local URL:  http://127.0.0.1:7861\n",
      "\n",
      "To create a public link, set `share=True` in `launch()`.\n"
     ]
    },
    {
     "data": {
      "text/html": [
       "<div><iframe src=\"http://127.0.0.1:7861/\" width=\"100%\" height=\"500\" allow=\"autoplay; camera; microphone; clipboard-read; clipboard-write;\" frameborder=\"0\" allowfullscreen></iframe></div>"
      ],
      "text/plain": [
       "<IPython.core.display.HTML object>"
      ]
     },
     "metadata": {},
     "output_type": "display_data"
    }
   ],
   "source": [
    "btn_correct = btn_wrong = btn_send = None\n",
    "with gr.Blocks() as demo:\n",
    "    with gr.Row() as row1:\n",
    "        with gr.Column() as col1:\n",
    "            sketchpad = gr.Sketchpad(shape=(28, 28), interactive=True)\n",
    "        with gr.Column() as col2:\n",
    "            text = gr.Text(label=\"Predicted number\")\n",
    "                \n",
    "    sketchpad.change(fn=generate_binary_matrix, inputs=sketchpad, outputs=text)\n",
    "\n",
    "    demo.queue().launch()"
   ]
  },
  {
   "cell_type": "code",
   "execution_count": null,
   "metadata": {},
   "outputs": [],
   "source": []
  }
 ],
 "metadata": {
  "kernelspec": {
   "display_name": "tensorflow",
   "language": "python",
   "name": "python3"
  },
  "language_info": {
   "codemirror_mode": {
    "name": "ipython",
    "version": 3
   },
   "file_extension": ".py",
   "mimetype": "text/x-python",
   "name": "python",
   "nbconvert_exporter": "python",
   "pygments_lexer": "ipython3",
   "version": "3.9.18"
  }
 },
 "nbformat": 4,
 "nbformat_minor": 2
}
